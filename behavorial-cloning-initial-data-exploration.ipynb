{
 "cells": [
  {
   "cell_type": "code",
   "execution_count": 39,
   "metadata": {
    "collapsed": false
   },
   "outputs": [],
   "source": [
    "import numpy as np\n",
    "import math\n",
    "import pandas as pd\n",
    "import matplotlib\n",
    "import matplotlib.pyplot as plt\n",
    "import matplotlib.image as mpimg\n",
    "from collections import deque\n",
    "%matplotlib inline"
   ]
  },
  {
   "cell_type": "code",
   "execution_count": 84,
   "metadata": {
    "collapsed": true
   },
   "outputs": [],
   "source": [
    "log_path = '/u200/Udacity/behavioral-cloning-project/data'\n",
    "data_df = pd.read_csv(log_path+'/driving_log.csv')"
   ]
  },
  {
   "cell_type": "code",
   "execution_count": 85,
   "metadata": {
    "collapsed": false
   },
   "outputs": [
    {
     "data": {
      "text/html": [
       "<div>\n",
       "<table border=\"1\" class=\"dataframe\">\n",
       "  <thead>\n",
       "    <tr style=\"text-align: right;\">\n",
       "      <th></th>\n",
       "      <th>center</th>\n",
       "      <th>left</th>\n",
       "      <th>right</th>\n",
       "      <th>steering</th>\n",
       "      <th>throttle</th>\n",
       "      <th>brake</th>\n",
       "      <th>speed</th>\n",
       "    </tr>\n",
       "  </thead>\n",
       "  <tbody>\n",
       "    <tr>\n",
       "      <th>0</th>\n",
       "      <td>IMG/center_2016_12_01_13_30_48_287.jpg</td>\n",
       "      <td>IMG/left_2016_12_01_13_30_48_287.jpg</td>\n",
       "      <td>IMG/right_2016_12_01_13_30_48_287.jpg</td>\n",
       "      <td>0.0</td>\n",
       "      <td>0.0</td>\n",
       "      <td>0.0</td>\n",
       "      <td>22.148290</td>\n",
       "    </tr>\n",
       "    <tr>\n",
       "      <th>1</th>\n",
       "      <td>IMG/center_2016_12_01_13_30_48_404.jpg</td>\n",
       "      <td>IMG/left_2016_12_01_13_30_48_404.jpg</td>\n",
       "      <td>IMG/right_2016_12_01_13_30_48_404.jpg</td>\n",
       "      <td>0.0</td>\n",
       "      <td>0.0</td>\n",
       "      <td>0.0</td>\n",
       "      <td>21.879630</td>\n",
       "    </tr>\n",
       "    <tr>\n",
       "      <th>2</th>\n",
       "      <td>IMG/center_2016_12_01_13_31_12_937.jpg</td>\n",
       "      <td>IMG/left_2016_12_01_13_31_12_937.jpg</td>\n",
       "      <td>IMG/right_2016_12_01_13_31_12_937.jpg</td>\n",
       "      <td>0.0</td>\n",
       "      <td>0.0</td>\n",
       "      <td>0.0</td>\n",
       "      <td>1.453011</td>\n",
       "    </tr>\n",
       "    <tr>\n",
       "      <th>3</th>\n",
       "      <td>IMG/center_2016_12_01_13_31_13_037.jpg</td>\n",
       "      <td>IMG/left_2016_12_01_13_31_13_037.jpg</td>\n",
       "      <td>IMG/right_2016_12_01_13_31_13_037.jpg</td>\n",
       "      <td>0.0</td>\n",
       "      <td>0.0</td>\n",
       "      <td>0.0</td>\n",
       "      <td>1.438419</td>\n",
       "    </tr>\n",
       "    <tr>\n",
       "      <th>4</th>\n",
       "      <td>IMG/center_2016_12_01_13_31_13_177.jpg</td>\n",
       "      <td>IMG/left_2016_12_01_13_31_13_177.jpg</td>\n",
       "      <td>IMG/right_2016_12_01_13_31_13_177.jpg</td>\n",
       "      <td>0.0</td>\n",
       "      <td>0.0</td>\n",
       "      <td>0.0</td>\n",
       "      <td>1.418236</td>\n",
       "    </tr>\n",
       "  </tbody>\n",
       "</table>\n",
       "</div>"
      ],
      "text/plain": [
       "                                   center  \\\n",
       "0  IMG/center_2016_12_01_13_30_48_287.jpg   \n",
       "1  IMG/center_2016_12_01_13_30_48_404.jpg   \n",
       "2  IMG/center_2016_12_01_13_31_12_937.jpg   \n",
       "3  IMG/center_2016_12_01_13_31_13_037.jpg   \n",
       "4  IMG/center_2016_12_01_13_31_13_177.jpg   \n",
       "\n",
       "                                    left  \\\n",
       "0   IMG/left_2016_12_01_13_30_48_287.jpg   \n",
       "1   IMG/left_2016_12_01_13_30_48_404.jpg   \n",
       "2   IMG/left_2016_12_01_13_31_12_937.jpg   \n",
       "3   IMG/left_2016_12_01_13_31_13_037.jpg   \n",
       "4   IMG/left_2016_12_01_13_31_13_177.jpg   \n",
       "\n",
       "                                    right  steering  throttle  brake  \\\n",
       "0   IMG/right_2016_12_01_13_30_48_287.jpg       0.0       0.0    0.0   \n",
       "1   IMG/right_2016_12_01_13_30_48_404.jpg       0.0       0.0    0.0   \n",
       "2   IMG/right_2016_12_01_13_31_12_937.jpg       0.0       0.0    0.0   \n",
       "3   IMG/right_2016_12_01_13_31_13_037.jpg       0.0       0.0    0.0   \n",
       "4   IMG/right_2016_12_01_13_31_13_177.jpg       0.0       0.0    0.0   \n",
       "\n",
       "       speed  \n",
       "0  22.148290  \n",
       "1  21.879630  \n",
       "2   1.453011  \n",
       "3   1.438419  \n",
       "4   1.418236  "
      ]
     },
     "execution_count": 85,
     "metadata": {},
     "output_type": "execute_result"
    }
   ],
   "source": [
    "data_df.iloc[:5]"
   ]
  },
  {
   "cell_type": "code",
   "execution_count": 86,
   "metadata": {
    "collapsed": false
   },
   "outputs": [
    {
     "data": {
      "text/plain": [
       "<matplotlib.axes._subplots.AxesSubplot at 0x7f6a49561668>"
      ]
     },
     "execution_count": 86,
     "metadata": {},
     "output_type": "execute_result"
    },
    {
     "data": {
      "image/png": "[encoded data removed]",
      "text/plain": [
       "<matplotlib.figure.Figure at 0x7f6a497cdf60>"
      ]
     },
     "metadata": {},
     "output_type": "display_data"
    }
   ],
   "source": [
    "data_df['steering'].plot.hist(bins=25)"
   ]
  },
  {
   "cell_type": "code",
   "execution_count": 87,
   "metadata": {
    "collapsed": false
   },
   "outputs": [
    {
     "data": {
      "text/plain": [
       "count    8036.000000\n",
       "mean        0.004070\n",
       "std         0.128840\n",
       "min        -0.942695\n",
       "25%         0.000000\n",
       "50%         0.000000\n",
       "75%         0.000000\n",
       "max         1.000000\n",
       "Name: steering, dtype: float64"
      ]
     },
     "execution_count": 87,
     "metadata": {},
     "output_type": "execute_result"
    }
   ],
   "source": [
    "data_df['steering'].describe()"
   ]
  },
  {
   "cell_type": "code",
   "execution_count": 89,
   "metadata": {
    "collapsed": false
   },
   "outputs": [
    {
     "data": {
      "text/plain": [
       "0.000000    8003\n",
       "1.000000       5\n",
       "0.326939       3\n",
       "0.414081       3\n",
       "0.268844       2\n",
       "0.394716       2\n",
       "0.433446       2\n",
       "0.811061       1\n",
       "0.617412       1\n",
       "0.036465       1\n",
       "0.985345       1\n",
       "0.375351       1\n",
       "0.075195       1\n",
       "0.191385       1\n",
       "0.142972       1\n",
       "0.336621       1\n",
       "0.820743       1\n",
       "0.443128       1\n",
       "0.510905       1\n",
       "0.220432       1\n",
       "0.046148       1\n",
       "0.026783       1\n",
       "0.772331       1\n",
       "Name: brake, dtype: int64"
      ]
     },
     "execution_count": 89,
     "metadata": {},
     "output_type": "execute_result"
    }
   ],
   "source": [
    "data_df['brake'].value_counts()"
   ]
  },
  {
   "cell_type": "code",
   "execution_count": 88,
   "metadata": {
    "collapsed": false
   },
   "outputs": [
    {
     "data": {
      "text/plain": [
       "<matplotlib.axes._subplots.AxesSubplot at 0x7f6a493f7f28>"
      ]
     },
     "execution_count": 88,
     "metadata": {},
     "output_type": "execute_result"
    },
    {
     "data": {
      "image/png": "[encoded data removed]",
      "text/plain": [
       "<matplotlib.figure.Figure at 0x7f6a4966d320>"
      ]
     },
     "metadata": {},
     "output_type": "display_data"
    }
   ],
   "source": [
    "data_df.query('steering != 0')['steering'].plot.hist(bins=25)"
   ]
  },
  {
   "cell_type": "code",
   "execution_count": 193,
   "metadata": {
    "collapsed": true
   },
   "outputs": [],
   "source": [
    "def filter_driving_straight(data_df, hist_items=6):\n",
    "    steering_history = deque([])\n",
    "    \n",
    "    drop_rows=[]\n",
    "    \n",
    "    for idx, row in data_df.iterrows():\n",
    "        # controls = [getattr(row, control) for control in vehicle_controls]\n",
    "        steering = getattr(row, 'steering')\n",
    "\n",
    "        # record the recent steering history\n",
    "        steering_history.append(steering)\n",
    "        if len(steering_history) > hist_items:\n",
    "            steering_history.popleft()\n",
    "\n",
    "        # if just driving in a straight line continue\n",
    "        if steering_history.count(0.0) == hist_items:\n",
    "            drop_rows.append(idx)\n",
    "\n",
    "    return data_df.drop(data_df.index[drop_rows])"
   ]
  },
  {
   "cell_type": "code",
   "execution_count": 249,
   "metadata": {
    "collapsed": true
   },
   "outputs": [],
   "source": [
    "# https://www.physicsforums.com/threads/steering-wheel-angle-radius-of-curvature.59881/\n",
    "def one_over_r(steering_radians, steering_ratio=16., wheel_base=4.):\n",
    "    steering_angle=math.degrees(steering_radians)\n",
    "    return math.sin(steering_angle/steering_ratio)/wheel_base"
   ]
  },
  {
   "cell_type": "code",
   "execution_count": 250,
   "metadata": {
    "collapsed": false
   },
   "outputs": [],
   "source": [
    "data_df2=filter_driving_straight(data_df)"
   ]
  },
  {
   "cell_type": "code",
   "execution_count": 251,
   "metadata": {
    "collapsed": false
   },
   "outputs": [
    {
     "data": {
      "text/plain": [
       "Index(['center', 'left', 'right', 'steering', 'throttle', 'brake', 'speed',\n",
       "       'one_over_r'],\n",
       "      dtype='object')"
      ]
     },
     "execution_count": 251,
     "metadata": {},
     "output_type": "execute_result"
    }
   ],
   "source": [
    "data_df2=data_df2.assign(one_over_r=lambda x:[one_over_r(steering) for steering in x.steering])\n",
    "data_df2.columns"
   ]
  },
  {
   "cell_type": "code",
   "execution_count": 252,
   "metadata": {
    "collapsed": false
   },
   "outputs": [
    {
     "data": {
      "text/plain": [
       "<matplotlib.axes._subplots.AxesSubplot at 0x7f69fec62fd0>"
      ]
     },
     "execution_count": 252,
     "metadata": {},
     "output_type": "execute_result"
    },
    {
     "data": {
      "image/png": "[encoded data removed]",
      "text/plain": [
       "<matplotlib.figure.Figure at 0x7f69fec44588>"
      ]
     },
     "metadata": {},
     "output_type": "display_data"
    }
   ],
   "source": [
    "data_df2['steering'].plot.hist(bins=25)"
   ]
  },
  {
   "cell_type": "code",
   "execution_count": 253,
   "metadata": {
    "collapsed": false
   },
   "outputs": [
    {
     "data": {
      "text/plain": [
       "<matplotlib.axes._subplots.AxesSubplot at 0x7f69febaccf8>"
      ]
     },
     "execution_count": 253,
     "metadata": {},
     "output_type": "execute_result"
    },
    {
     "data": {
      "image/png": "[encoded data removed]",
      "text/plain": [
       "<matplotlib.figure.Figure at 0x7f69fec3c860>"
      ]
     },
     "metadata": {},
     "output_type": "display_data"
    }
   ],
   "source": [
    "data_df2['one_over_r'].plot.hist(bins=25)"
   ]
  },
  {
   "cell_type": "markdown",
   "metadata": {},
   "source": [
    "still dont have enougth steering data"
   ]
  },
  {
   "cell_type": "code",
   "execution_count": 220,
   "metadata": {
    "collapsed": false
   },
   "outputs": [
    {
     "data": {
      "text/plain": [
       "1884"
      ]
     },
     "execution_count": 220,
     "metadata": {},
     "output_type": "execute_result"
    }
   ],
   "source": [
    "len(data_df2.loc[data_df2['steering'] == 0.0])"
   ]
  },
  {
   "cell_type": "code",
   "execution_count": 221,
   "metadata": {
    "collapsed": false
   },
   "outputs": [
    {
     "data": {
      "text/html": [
       "<div>\n",
       "<table border=\"1\" class=\"dataframe\">\n",
       "  <thead>\n",
       "    <tr style=\"text-align: right;\">\n",
       "      <th></th>\n",
       "      <th>steering</th>\n",
       "      <th>throttle</th>\n",
       "      <th>brake</th>\n",
       "      <th>speed</th>\n",
       "    </tr>\n",
       "  </thead>\n",
       "  <tbody>\n",
       "    <tr>\n",
       "      <th>count</th>\n",
       "      <td>5559.000000</td>\n",
       "      <td>5559.000000</td>\n",
       "      <td>5559.000000</td>\n",
       "      <td>5559.000000</td>\n",
       "    </tr>\n",
       "    <tr>\n",
       "      <th>mean</th>\n",
       "      <td>0.005883</td>\n",
       "      <td>0.888590</td>\n",
       "      <td>0.002100</td>\n",
       "      <td>28.828677</td>\n",
       "    </tr>\n",
       "    <tr>\n",
       "      <th>std</th>\n",
       "      <td>0.154877</td>\n",
       "      <td>0.272463</td>\n",
       "      <td>0.040643</td>\n",
       "      <td>4.586150</td>\n",
       "    </tr>\n",
       "    <tr>\n",
       "      <th>min</th>\n",
       "      <td>-0.942695</td>\n",
       "      <td>0.000000</td>\n",
       "      <td>0.000000</td>\n",
       "      <td>1.418236</td>\n",
       "    </tr>\n",
       "    <tr>\n",
       "      <th>25%</th>\n",
       "      <td>-0.059757</td>\n",
       "      <td>0.985533</td>\n",
       "      <td>0.000000</td>\n",
       "      <td>30.182030</td>\n",
       "    </tr>\n",
       "    <tr>\n",
       "      <th>50%</th>\n",
       "      <td>0.000000</td>\n",
       "      <td>0.985533</td>\n",
       "      <td>0.000000</td>\n",
       "      <td>30.186030</td>\n",
       "    </tr>\n",
       "    <tr>\n",
       "      <th>75%</th>\n",
       "      <td>0.071328</td>\n",
       "      <td>0.985533</td>\n",
       "      <td>0.000000</td>\n",
       "      <td>30.186610</td>\n",
       "    </tr>\n",
       "    <tr>\n",
       "      <th>max</th>\n",
       "      <td>1.000000</td>\n",
       "      <td>0.985533</td>\n",
       "      <td>1.000000</td>\n",
       "      <td>30.631810</td>\n",
       "    </tr>\n",
       "  </tbody>\n",
       "</table>\n",
       "</div>"
      ],
      "text/plain": [
       "          steering     throttle        brake        speed\n",
       "count  5559.000000  5559.000000  5559.000000  5559.000000\n",
       "mean      0.005883     0.888590     0.002100    28.828677\n",
       "std       0.154877     0.272463     0.040643     4.586150\n",
       "min      -0.942695     0.000000     0.000000     1.418236\n",
       "25%      -0.059757     0.985533     0.000000    30.182030\n",
       "50%       0.000000     0.985533     0.000000    30.186030\n",
       "75%       0.071328     0.985533     0.000000    30.186610\n",
       "max       1.000000     0.985533     1.000000    30.631810"
      ]
     },
     "execution_count": 221,
     "metadata": {},
     "output_type": "execute_result"
    }
   ],
   "source": [
    "data_df2.describe()"
   ]
  },
  {
   "cell_type": "code",
   "execution_count": 95,
   "metadata": {
    "collapsed": false
   },
   "outputs": [],
   "source": [
    "from pathlib import PurePosixPath\n",
    "import cv2\n",
    "import os\n",
    "from datetime import datetime\n",
    "import matplotlib.gridspec as gridspec"
   ]
  },
  {
   "cell_type": "code",
   "execution_count": 96,
   "metadata": {
    "collapsed": true
   },
   "outputs": [],
   "source": [
    "def image_files(path,camera='center'):\n",
    "    return[path+f for f in os.listdir(path) if camera in str(f)]"
   ]
  },
  {
   "cell_type": "code",
   "execution_count": 97,
   "metadata": {
    "collapsed": false
   },
   "outputs": [],
   "source": [
    "center_camera_files=image_files(log_path+'/IMG/')\n",
    "left_camera_files=image_files(log_path+'/IMG/',camera='left')\n",
    "right_camera_files=image_files(log_path+'/IMG/',camera='right')"
   ]
  },
  {
   "cell_type": "code",
   "execution_count": 98,
   "metadata": {
    "collapsed": false
   },
   "outputs": [
    {
     "name": "stdout",
     "output_type": "stream",
     "text": [
      "8036 8036 8036\n"
     ]
    }
   ],
   "source": [
    "print(len(left_camera_files),len(center_camera_files),len(right_camera_files))"
   ]
  },
  {
   "cell_type": "code",
   "execution_count": 99,
   "metadata": {
    "collapsed": false
   },
   "outputs": [
    {
     "name": "stdout",
     "output_type": "stream",
     "text": [
      "/u200/Udacity/behavioral-cloning-project/data/IMG/left_2016_12_01_13_35_53_375.jpg\n",
      "/u200/Udacity/behavioral-cloning-project/data/IMG/center_2016_12_01_13_40_05_910.jpg\n",
      "/u200/Udacity/behavioral-cloning-project/data/IMG/right_2016_12_01_13_46_24_923.jpg\n",
      "left [2016   12    1   13   35   53  375] 2016-12-01 13:35:53.000375\n"
     ]
    }
   ],
   "source": [
    "print(left_camera_files[0])\n",
    "print(center_camera_files[0])\n",
    "print(right_camera_files[0])\n",
    "\n",
    "p = PurePosixPath(left_camera_files[0])\n",
    "split=p.stem.split('_')\n",
    "camera=split.pop(0)\n",
    "dts=np.asarray(split, dtype=np.int)\n",
    "print(camera, dts, datetime(dts[0],dts[1],dts[2],dts[3],dts[4],dts[5],dts[6]))"
   ]
  },
  {
   "cell_type": "code",
   "execution_count": 100,
   "metadata": {
    "collapsed": false
   },
   "outputs": [
    {
     "data": {
      "text/plain": [
       "center      IMG/center_2016_12_01_13_32_48_402.jpg\n",
       "left          IMG/left_2016_12_01_13_32_48_402.jpg\n",
       "right        IMG/right_2016_12_01_13_32_48_402.jpg\n",
       "steering                                -0.0597572\n",
       "throttle                                  0.985533\n",
       "brake                                            0\n",
       "speed                                      30.1869\n",
       "Name: 100, dtype: object"
      ]
     },
     "execution_count": 100,
     "metadata": {},
     "output_type": "execute_result"
    }
   ],
   "source": [
    "data_df.iloc[100]"
   ]
  },
  {
   "cell_type": "code",
   "execution_count": 133,
   "metadata": {
    "collapsed": true
   },
   "outputs": [],
   "source": [
    "def load_image(filename):\n",
    "    filename = filename.strip()\n",
    "    if filename.startswith('IMG'):\n",
    "        filename = log_path+'/'+filename\n",
    "    else:\n",
    "        # load it relative to where log file is now, not whats in it\n",
    "        filename = log_path+'/IMG/'+PurePosixPath(filename).name\n",
    "\n",
    "    img = cv2.imread(filename)\n",
    "\n",
    "    return cv2.cvtColor(img, cv2.COLOR_BGR2RGB)\n",
    "#     return cv2.cvtColor(img, cv2.COLOR_BGR2YUV)"
   ]
  },
  {
   "cell_type": "code",
   "execution_count": 188,
   "metadata": {
    "collapsed": false
   },
   "outputs": [],
   "source": [
    "def draw_cameras(img_left, img_center, img_right, telemetry):\n",
    "    height = img_center.shape[0]\n",
    "    width = img_center.shape[1]\n",
    "    steering = telemetry['steering']\n",
    "    \n",
    "    txt='%.3f/%.3f' % (steering,one_over_r(steering))\n",
    "    \n",
    "    pad=np.zeros((height,10,3), np.uint8)\n",
    "    \n",
    "    font = cv2.FONT_HERSHEY_COMPLEX_SMALL\n",
    "    cv2.putText(img_center,txt,(int(width/2)-75,height-20), font, 1,(255,255,255),1,cv2.LINE_AA)\n",
    "    \n",
    "    return np.hstack((img_left, pad, img_center, pad, img_right))\n",
    "\n",
    "def plot_cameras(img_left, img_center, img_right):\n",
    "    fig = plt.figure(dpi=200)\n",
    "    gs1 = gridspec.GridSpec(1,3,wspace=0.05)\n",
    "    fig.add_subplot(gs1[0])\n",
    "    plt.imshow(img_left)\n",
    "    plt.title('left')\n",
    "    plt.axis('off')\n",
    "    fig.add_subplot(gs1[1])\n",
    "    plt.imshow(img_center)\n",
    "    plt.title('center')\n",
    "    plt.axis('off')\n",
    "    fig.add_subplot(gs1[2])\n",
    "    plt.imshow(img_right)\n",
    "    plt.title('right')\n",
    "    plt.axis('off')"
   ]
  },
  {
   "cell_type": "code",
   "execution_count": 177,
   "metadata": {
    "collapsed": true
   },
   "outputs": [],
   "source": [
    "import random\n",
    "\n",
    "def get_telemetry(row):\n",
    "    vehicle_controls = ['steering', 'throttle', 'brake']\n",
    "    controls = {control:getattr(row, control) for control in vehicle_controls}\n",
    "    return controls\n",
    "\n",
    "def crop_camera(img, crop_height=66, crop_width=200):\n",
    "    height = img.shape[0]\n",
    "    width = img.shape[1]\n",
    "    \n",
    "#     y_start=60+random.randint(-10,10)\n",
    "#     x_start=int(width/2)-int(crop_width/2)+random.randint(-40,40)\n",
    "    y_start=60\n",
    "    x_start=int(width/2)-int(crop_width/2)\n",
    "    \n",
    "    return img[y_start:y_start+crop_height,x_start:x_start+crop_width]\n",
    "    \n",
    "def load_and_plot(log_index):\n",
    "    logdata=data_df.iloc[log_index]\n",
    "    t=get_telemetry(logdata)\n",
    "    img_left=load_image(logdata.left)\n",
    "    img_center=load_image(logdata.center)\n",
    "    img_right=load_image(logdata.right)\n",
    "    plot_cameras(img_left, img_center, img_right)\n",
    "\n",
    "def load_and_draw(log_index):\n",
    "    logdata=data_df.iloc[log_index]\n",
    "    t=get_telemetry(logdata)\n",
    "    img_left=crop_camera(load_image(logdata.left))\n",
    "    img_center=crop_camera(load_image(logdata.center))\n",
    "    img_right=crop_camera(load_image(logdata.right))\n",
    "    return draw_cameras(img_left, img_center, img_right,t)"
   ]
  },
  {
   "cell_type": "code",
   "execution_count": 191,
   "metadata": {
    "collapsed": false
   },
   "outputs": [
    {
     "data": {
      "text/plain": [
       "<matplotlib.image.AxesImage at 0x7f6a1f90d7f0>"
      ]
     },
     "execution_count": 191,
     "metadata": {},
     "output_type": "execute_result"
    },
    {
     "data": {
      "image/png": "[encoded data removed]",
      "text/plain": [
       "<matplotlib.figure.Figure at 0x7f6a1f992940>"
      ]
     },
     "metadata": {},
     "output_type": "display_data"
    }
   ],
   "source": [
    "plt.imshow(load_and_draw(4300))"
   ]
  },
  {
   "cell_type": "code",
   "execution_count": 179,
   "metadata": {
    "collapsed": false
   },
   "outputs": [],
   "source": [
    "from moviepy.editor import *\n",
    "from IPython.display import HTML"
   ]
  },
  {
   "cell_type": "code",
   "execution_count": null,
   "metadata": {
    "collapsed": false
   },
   "outputs": [],
   "source": []
  },
  {
   "cell_type": "code",
   "execution_count": 180,
   "metadata": {
    "collapsed": false
   },
   "outputs": [
    {
     "name": "stdout",
     "output_type": "stream",
     "text": [
      "CPU times: user 8.1 s, sys: 160 ms, total: 8.26 s\n",
      "Wall time: 8.25 s\n"
     ]
    }
   ],
   "source": [
    "%time clip_data=[load_and_draw(idx) for idx in data_df2.index]"
   ]
  },
  {
   "cell_type": "code",
   "execution_count": 192,
   "metadata": {
    "collapsed": false
   },
   "outputs": [
    {
     "name": "stdout",
     "output_type": "stream",
     "text": [
      "[MoviePy] >>>> Building video clip_sample.mp4\n",
      "[MoviePy] Writing video clip_sample.mp4\n"
     ]
    },
    {
     "name": "stderr",
     "output_type": "stream",
     "text": [
      "100%|██████████| 4146/4146 [00:10<00:00, 394.46it/s]   | 81/4146 [00:00<00:05, 802.08it/s]\n"
     ]
    },
    {
     "name": "stdout",
     "output_type": "stream",
     "text": [
      "[MoviePy] Done.\n",
      "[MoviePy] >>>> Video ready: clip_sample.mp4 \n",
      "\n",
      "CPU times: user 2.45 s, sys: 68 ms, total: 2.52 s\n",
      "Wall time: 10.7 s\n"
     ]
    }
   ],
   "source": [
    "clip_out='clip_sample.mp4'\n",
    "clip = ImageSequenceClip(clip_data, fps=50)\n",
    "%time clip.write_videofile(clip_out, audio=False)"
   ]
  },
  {
   "cell_type": "code",
   "execution_count": 148,
   "metadata": {
    "collapsed": false
   },
   "outputs": [
    {
     "data": {
      "text/html": [
       "\n",
       "<video width=\"960\" height=\"150\" controls>\n",
       "  <source src=\"clip_sample.mp4\">\n",
       "</video>\n"
      ],
      "text/plain": [
       "<IPython.core.display.HTML object>"
      ]
     },
     "execution_count": 148,
     "metadata": {},
     "output_type": "execute_result"
    }
   ],
   "source": [
    "HTML(\"\"\"\n",
    "<video width=\"960\" height=\"150\" controls>\n",
    "  <source src=\"{0}\">\n",
    "</video>\n",
    "\"\"\".format(clip_out))"
   ]
  },
  {
   "cell_type": "code",
   "execution_count": 234,
   "metadata": {
    "collapsed": false
   },
   "outputs": [],
   "source": [
    "def create_movie_from_log(log_path,log_file='driving_log.csv',skiprows=0,clip_name='log_clip.mp4', sample_every=1):\n",
    "    column_names = ['center', 'left', 'right',\n",
    "                    'steering', 'throttle', 'brake', 'speed']\n",
    "    data_df = pd.read_csv(log_path+'/'+log_file,\n",
    "                          names=column_names, skiprows=skiprows)\n",
    "    \n",
    "    clip_data=[load_and_draw(idx) for idx in data_df.index if not idx % sample_every]\n",
    "    clip = ImageSequenceClip(clip_data, fps=10)\n",
    "    %time clip.write_videofile(clip_name, audio=False)"
   ]
  },
  {
   "cell_type": "code",
   "execution_count": 235,
   "metadata": {
    "collapsed": false
   },
   "outputs": [
    {
     "name": "stdout",
     "output_type": "stream",
     "text": [
      "[MoviePy] >>>> Building video udacity_sample.mp4\n",
      "[MoviePy] Writing video udacity_sample.mp4\n"
     ]
    },
    {
     "name": "stderr",
     "output_type": "stream",
     "text": [
      "100%|██████████| 8037/8037 [00:24<00:00, 330.90it/s]   | 85/8037 [00:00<00:09, 849.20it/s]\n"
     ]
    },
    {
     "name": "stdout",
     "output_type": "stream",
     "text": [
      "[MoviePy] Done.\n",
      "[MoviePy] >>>> Video ready: udacity_sample.mp4 \n",
      "\n",
      "CPU times: user 8.6 s, sys: 144 ms, total: 8.75 s\n",
      "Wall time: 24.4 s\n"
     ]
    }
   ],
   "source": [
    "clip_name='udacity_sample.mp4'\n",
    "create_movie_from_log('/u200/Udacity/behavioral-cloning-project/data',skiprows=1,clip_name=clip_name,sample_every=1)"
   ]
  },
  {
   "cell_type": "code",
   "execution_count": 236,
   "metadata": {
    "collapsed": false
   },
   "outputs": [
    {
     "data": {
      "text/html": [
       "\n",
       "<video width=\"960\" height=\"150\" controls>\n",
       "  <source src=\"udacity_sample.mp4\">\n",
       "</video>\n"
      ],
      "text/plain": [
       "<IPython.core.display.HTML object>"
      ]
     },
     "execution_count": 236,
     "metadata": {},
     "output_type": "execute_result"
    }
   ],
   "source": [
    "HTML(\"\"\"\n",
    "<video width=\"960\" height=\"150\" controls>\n",
    "  <source src=\"{0}\">\n",
    "</video>\n",
    "\"\"\".format(clip_name))"
   ]
  },
  {
   "cell_type": "code",
   "execution_count": 232,
   "metadata": {
    "collapsed": false
   },
   "outputs": [
    {
     "name": "stdout",
     "output_type": "stream",
     "text": [
      "[MoviePy] >>>> Building video simulator_run1.mp4\n",
      "[MoviePy] Writing video simulator_run1.mp4\n"
     ]
    },
    {
     "name": "stderr",
     "output_type": "stream",
     "text": [
      "100%|██████████| 649/649 [00:01<00:00, 362.09it/s]    | 94/649 [00:00<00:00, 920.78it/s]\n"
     ]
    },
    {
     "name": "stdout",
     "output_type": "stream",
     "text": [
      "[MoviePy] Done.\n",
      "[MoviePy] >>>> Video ready: simulator_run1.mp4 \n",
      "\n",
      "CPU times: user 108 ms, sys: 20 ms, total: 128 ms\n",
      "Wall time: 1.94 s\n"
     ]
    }
   ],
   "source": [
    "clip_name='simulator_run1.mp4'\n",
    "create_movie_from_log('./data',clip_name=clip_name, sample_every=2)"
   ]
  },
  {
   "cell_type": "code",
   "execution_count": 233,
   "metadata": {
    "collapsed": false
   },
   "outputs": [
    {
     "data": {
      "text/html": [
       "\n",
       "<video width=\"960\" height=\"150\" controls>\n",
       "  <source src=\"simulator_run1.mp4\">\n",
       "</video>\n"
      ],
      "text/plain": [
       "<IPython.core.display.HTML object>"
      ]
     },
     "execution_count": 233,
     "metadata": {},
     "output_type": "execute_result"
    }
   ],
   "source": [
    "HTML(\"\"\"\n",
    "<video width=\"960\" height=\"150\" controls>\n",
    "  <source src=\"{0}\">\n",
    "</video>\n",
    "\"\"\".format(clip_name))"
   ]
  },
  {
   "cell_type": "code",
   "execution_count": 254,
   "metadata": {
    "collapsed": false
   },
   "outputs": [
    {
     "name": "stdout",
     "output_type": "stream",
     "text": [
      "zero angle total:  1884\n",
      "bin[00] steering: -1.000000 count: 0 desired: 0\n",
      "bin[01] steering: -0.972973 count: 0 desired: 0\n",
      "bin[02] steering: -0.945946 count: 4 desired: 0\n",
      "bin[03] steering: -0.918919 count: 0 desired: 0\n",
      "bin[04] steering: -0.891892 count: 0 desired: 0\n",
      "bin[05] steering: -0.864865 count: 0 desired: 0\n",
      "bin[06] steering: -0.837838 count: 0 desired: 0\n",
      "bin[07] steering: -0.810811 count: 1 desired: 0\n",
      "bin[08] steering: -0.783784 count: 1 desired: 0\n",
      "bin[09] steering: -0.756757 count: 0 desired: 1\n",
      "bin[10] steering: -0.729730 count: 1 desired: 2\n",
      "bin[11] steering: -0.702703 count: 2 desired: 3\n",
      "bin[12] steering: -0.675676 count: 0 desired: 6\n",
      "bin[13] steering: -0.648649 count: 2 desired: 9\n",
      "bin[14] steering: -0.621622 count: 2 desired: 15\n",
      "bin[15] steering: -0.594595 count: 0 desired: 22\n",
      "bin[16] steering: -0.567568 count: 0 desired: 33\n",
      "bin[17] steering: -0.540541 count: 3 desired: 48\n",
      "bin[18] steering: -0.513514 count: 14 desired: 69\n",
      "bin[19] steering: -0.486486 count: 3 desired: 97\n",
      "bin[20] steering: -0.459459 count: 30 desired: 134\n",
      "bin[21] steering: -0.432432 count: 20 desired: 181\n",
      "bin[22] steering: -0.405405 count: 21 desired: 240\n",
      "bin[23] steering: -0.378378 count: 19 desired: 313\n",
      "bin[24] steering: -0.351351 count: 18 desired: 401\n",
      "bin[25] steering: -0.324324 count: 23 desired: 504\n",
      "bin[26] steering: -0.297297 count: 112 desired: 622\n",
      "bin[27] steering: -0.270270 count: 39 desired: 754\n",
      "bin[28] steering: -0.243243 count: 86 desired: 896\n",
      "bin[29] steering: -0.216216 count: 71 desired: 1047\n",
      "bin[30] steering: -0.189189 count: 72 desired: 1201\n",
      "bin[31] steering: -0.162162 count: 279 desired: 1352\n",
      "bin[32] steering: -0.135135 count: 81 desired: 1495\n",
      "bin[33] steering: -0.108108 count: 136 desired: 1623\n",
      "bin[34] steering: -0.081081 count: 431 desired: 1730\n",
      "bin[35] steering: -0.054054 count: 145 desired: 1811\n",
      "bin[36] steering: -0.027027 count: 159 desired: 1861\n",
      "bin[37] steering: 0.000000 count: 1884 desired: 1884\n",
      "bin[38] steering: 0.027027 count: 139 desired: 1861\n",
      "bin[39] steering: 0.054054 count: 230 desired: 1811\n",
      "bin[40] steering: 0.081081 count: 190 desired: 1730\n",
      "bin[41] steering: 0.108108 count: 231 desired: 1623\n",
      "bin[42] steering: 0.135135 count: 140 desired: 1495\n",
      "bin[43] steering: 0.162162 count: 137 desired: 1352\n",
      "bin[44] steering: 0.189189 count: 410 desired: 1201\n",
      "bin[45] steering: 0.216216 count: 67 desired: 1047\n",
      "bin[46] steering: 0.243243 count: 16 desired: 896\n",
      "bin[47] steering: 0.270270 count: 48 desired: 754\n",
      "bin[48] steering: 0.297297 count: 58 desired: 622\n",
      "bin[49] steering: 0.324324 count: 69 desired: 504\n",
      "bin[50] steering: 0.351351 count: 32 desired: 401\n",
      "bin[51] steering: 0.378378 count: 68 desired: 313\n",
      "bin[52] steering: 0.405405 count: 3 desired: 240\n",
      "bin[53] steering: 0.432432 count: 11 desired: 181\n",
      "bin[54] steering: 0.459459 count: 12 desired: 134\n",
      "bin[55] steering: 0.486486 count: 15 desired: 97\n",
      "bin[56] steering: 0.513514 count: 10 desired: 69\n",
      "bin[57] steering: 0.540541 count: 0 desired: 48\n",
      "bin[58] steering: 0.567568 count: 0 desired: 33\n",
      "bin[59] steering: 0.594595 count: 6 desired: 22\n",
      "bin[60] steering: 0.621622 count: 0 desired: 15\n",
      "bin[61] steering: 0.648649 count: 4 desired: 9\n",
      "bin[62] steering: 0.675676 count: 1 desired: 6\n",
      "bin[63] steering: 0.702703 count: 0 desired: 3\n",
      "bin[64] steering: 0.729730 count: 0 desired: 2\n",
      "bin[65] steering: 0.756757 count: 1 desired: 1\n",
      "bin[66] steering: 0.783784 count: 0 desired: 0\n",
      "bin[67] steering: 0.810811 count: 0 desired: 0\n",
      "bin[68] steering: 0.837838 count: 0 desired: 0\n",
      "bin[69] steering: 0.864865 count: 0 desired: 0\n",
      "bin[70] steering: 0.891892 count: 0 desired: 0\n",
      "bin[71] steering: 0.918919 count: 0 desired: 0\n",
      "bin[72] steering: 0.945946 count: 0 desired: 0\n",
      "bin[73] steering: 0.972973 count: 0 desired: 0\n",
      "bin[74] steering: 1.000000 count: 2 desired: 0\n"
     ]
    },
    {
     "data": {
      "text/plain": [
       "<matplotlib.axes._subplots.AxesSubplot at 0x7f69feaeca20>"
      ]
     },
     "execution_count": 254,
     "metadata": {},
     "output_type": "execute_result"
    },
    {
     "data": {
      "image/png": "[encoded data removed]",
      "text/plain": [
       "<matplotlib.figure.Figure at 0x7f69fec52c18>"
      ]
     },
     "metadata": {},
     "output_type": "display_data"
    }
   ],
   "source": [
    "def augment_data(data_df,cname='steering'):\n",
    "    mu = 0\n",
    "    sigma = 0.2\n",
    "    \n",
    "    zero_total = len(data_df.loc[data_df[cname] == 0.0])\n",
    "    print(\"zero angle total: \", zero_total)\n",
    "    \n",
    "    bin_len=75\n",
    "    # bins with values from -1 to 1\n",
    "    bin = np.linspace(-1, 1, bin_len)\n",
    "    \n",
    "    # middle bin is 0.0 steering angle\n",
    "    assert bin[int(bin_len/2)] == 0.0\n",
    "    \n",
    "    for b in range(len(bin)):\n",
    "        # select rows for this bin\n",
    "        if bin[b] == 0.0:\n",
    "            bd_count = zero_total\n",
    "            bd_df = data_df[data_df[cname] == 0.0]\n",
    "        elif bin[b] < 0.0:\n",
    "            bd_df = data_df[data_df[cname].between(bin[b],bin[b+1]-0.0001)]\n",
    "            bd_count=len(bd_df)\n",
    "        else:\n",
    "            bd_df = data_df[data_df[cname].between(bin[b-1]+0.0001,bin[b])]\n",
    "            bd_count=len(bd_df)\n",
    "        \n",
    "        # work out count for a gausian distribution\n",
    "        if b == int(bin_len/2):\n",
    "            bd_desired=zero_total\n",
    "        else:\n",
    "            bd_desired=int((zero_total/2.) * norm.pdf(bin[b], mu, sigma))\n",
    "     \n",
    "        print(\"bin[%.2d] %s: %f count: %d desired: %d\" % (b,cname,bin[b],bd_count,bd_desired))\n",
    "        \n",
    "        # append extra rows\n",
    "        bd_needed = bd_desired - bd_count\n",
    "        if bd_needed > 0 and bd_count > 0:\n",
    "            bd_df=bd_df.sample(frac=(1.*bd_desired/bd_count), replace=True)\n",
    "        \n",
    "        # first time through save the dataframe for later bins to append to\n",
    "        if b == 0:\n",
    "            final_df = bd_df\n",
    "            \n",
    "        else:\n",
    "            final_df = final_df.append(bd_df, ignore_index=True)\n",
    "    \n",
    "    return final_df      \n",
    "        \n",
    "augment_data(data_df2)['one_over_r'].plot.hist(bins=50)"
   ]
  },
  {
   "cell_type": "code",
   "execution_count": null,
   "metadata": {
    "collapsed": false
   },
   "outputs": [],
   "source": []
  },
  {
   "cell_type": "code",
   "execution_count": null,
   "metadata": {
    "collapsed": true
   },
   "outputs": [],
   "source": []
  }
 ],
 "metadata": {
  "anaconda-cloud": {},
  "kernelspec": {
   "display_name": "Python [conda env:keras]",
   "language": "python",
   "name": "conda-env-keras-py"
  },
  "language_info": {
   "codemirror_mode": {
    "name": "ipython",
    "version": 3
   },
   "file_extension": ".py",
   "mimetype": "text/x-python",
   "name": "python",
   "nbconvert_exporter": "python",
   "pygments_lexer": "ipython3",
   "version": "3.5.2"
  }
 },
 "nbformat": 4,
 "nbformat_minor": 2
}
